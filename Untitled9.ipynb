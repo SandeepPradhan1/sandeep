{
 "cells": [
  {
   "cell_type": "code",
   "execution_count": null,
   "id": "6bced54d",
   "metadata": {},
   "outputs": [],
   "source": []
  },
  {
   "cell_type": "code",
   "execution_count": 6,
   "id": "90e28da0",
   "metadata": {},
   "outputs": [
    {
     "name": "stdout",
     "output_type": "stream",
     "text": [
      "The virtual SIM also allows subscribers to switch from one mobile network to another without having to change the physical SIM card\n",
      "\n",
      "https://kathmandupost.com/\n",
      "closing the file\n"
     ]
    }
   ],
   "source": [
    "try:\n",
    "    f=open(\"file.txt\")\n",
    "    print(f.read())\n",
    "    \n",
    "except FileNotFoundError as e:\n",
    "        print(str(e))\n",
    "        print(\"creating new file\")\n",
    "        f=open(\"test.txt\", 'a')\n",
    "finally:\n",
    "        print(\"closing the file\")\n",
    "        f.close()"
   ]
  },
  {
   "cell_type": "code",
   "execution_count": 8,
   "id": "1812b175",
   "metadata": {},
   "outputs": [],
   "source": [
    "import os \n"
   ]
  },
  {
   "cell_type": "code",
   "execution_count": 10,
   "id": "7d9f54c7",
   "metadata": {},
   "outputs": [
    {
     "data": {
      "text/plain": [
       "True"
      ]
     },
     "execution_count": 10,
     "metadata": {},
     "output_type": "execute_result"
    }
   ],
   "source": [
    "os.path.exists('file.txt')"
   ]
  },
  {
   "cell_type": "code",
   "execution_count": 16,
   "id": "bac4cfcd",
   "metadata": {},
   "outputs": [
    {
     "name": "stdout",
     "output_type": "stream",
     "text": [
      "File remove\n"
     ]
    }
   ],
   "source": [
    "if os.path.exists('file.txt'):\n",
    "    os.remove(\"file.txt\")\n",
    "    print(\"File remove\")\n",
    "else:\n",
    "    print(\"file dont exist\")"
   ]
  },
  {
   "cell_type": "code",
   "execution_count": null,
   "id": "3fe9773a",
   "metadata": {},
   "outputs": [],
   "source": []
  },
  {
   "cell_type": "code",
   "execution_count": 17,
   "id": "16b54a4a",
   "metadata": {},
   "outputs": [],
   "source": [
    "import json"
   ]
  },
  {
   "cell_type": "code",
   "execution_count": 18,
   "id": "deacfb21",
   "metadata": {},
   "outputs": [],
   "source": [
    "#dumps() loads()"
   ]
  },
  {
   "cell_type": "code",
   "execution_count": 20,
   "id": "490909de",
   "metadata": {},
   "outputs": [
    {
     "data": {
      "text/plain": [
       "'[1, 2, 3, 4, 5]'"
      ]
     },
     "execution_count": 20,
     "metadata": {},
     "output_type": "execute_result"
    }
   ],
   "source": [
    "json.dumps([1,2,3,4,5])"
   ]
  },
  {
   "cell_type": "code",
   "execution_count": null,
   "id": "c7662353",
   "metadata": {},
   "outputs": [],
   "source": []
  },
  {
   "cell_type": "code",
   "execution_count": null,
   "id": "fa364fc5",
   "metadata": {},
   "outputs": [],
   "source": []
  },
  {
   "cell_type": "code",
   "execution_count": 22,
   "id": "c276acfe",
   "metadata": {},
   "outputs": [
    {
     "data": {
      "text/plain": [
       "'{\"name\": \"sandeep\", \"age\": 24}'"
      ]
     },
     "execution_count": 22,
     "metadata": {},
     "output_type": "execute_result"
    }
   ],
   "source": [
    "json.dumps({\"name\":\"sandeep\", \"age\":24})"
   ]
  },
  {
   "cell_type": "code",
   "execution_count": null,
   "id": "a389a6c0",
   "metadata": {},
   "outputs": [],
   "source": []
  },
  {
   "cell_type": "code",
   "execution_count": null,
   "id": "ca62479e",
   "metadata": {},
   "outputs": [],
   "source": []
  },
  {
   "cell_type": "code",
   "execution_count": null,
   "id": "112399e4",
   "metadata": {},
   "outputs": [],
   "source": []
  },
  {
   "cell_type": "code",
   "execution_count": null,
   "id": "f33e4c4b",
   "metadata": {},
   "outputs": [],
   "source": []
  }
 ],
 "metadata": {
  "kernelspec": {
   "display_name": "Python 3 (ipykernel)",
   "language": "python",
   "name": "python3"
  },
  "language_info": {
   "codemirror_mode": {
    "name": "ipython",
    "version": 3
   },
   "file_extension": ".py",
   "mimetype": "text/x-python",
   "name": "python",
   "nbconvert_exporter": "python",
   "pygments_lexer": "ipython3",
   "version": "3.10.5"
  }
 },
 "nbformat": 4,
 "nbformat_minor": 5
}
