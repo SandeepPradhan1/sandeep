{
 "cells": [
  {
   "cell_type": "code",
   "execution_count": 12,
   "id": "043bb4ec",
   "metadata": {},
   "outputs": [],
   "source": [
    "class person:\n",
    "    def __init__(self, name, balance):\n",
    "        \n",
    "        self.name=name\n",
    "        self.balance=balance\n",
    "    def __add__(self, otherobj):\n",
    "        return self.balance + otherobj.balance"
   ]
  },
  {
   "cell_type": "code",
   "execution_count": 13,
   "id": "712347fb",
   "metadata": {},
   "outputs": [],
   "source": [
    "p1=person(\"sandeep\", 46)\n",
    "p2=person(\"sudeep\", 4)\n"
   ]
  },
  {
   "cell_type": "code",
   "execution_count": 14,
   "id": "6ae17922",
   "metadata": {},
   "outputs": [
    {
     "data": {
      "text/plain": [
       "50"
      ]
     },
     "execution_count": 14,
     "metadata": {},
     "output_type": "execute_result"
    }
   ],
   "source": [
    "p1+p2"
   ]
  },
  {
   "cell_type": "code",
   "execution_count": null,
   "id": "de0e350d",
   "metadata": {},
   "outputs": [],
   "source": []
  },
  {
   "cell_type": "code",
   "execution_count": null,
   "id": "a8dfd162",
   "metadata": {},
   "outputs": [],
   "source": []
  },
  {
   "cell_type": "code",
   "execution_count": null,
   "id": "ea7a5c68",
   "metadata": {},
   "outputs": [],
   "source": []
  },
  {
   "cell_type": "code",
   "execution_count": null,
   "id": "e6034f44",
   "metadata": {},
   "outputs": [],
   "source": []
  },
  {
   "cell_type": "markdown",
   "id": "0c2db9f0",
   "metadata": {},
   "source": []
  },
  {
   "cell_type": "code",
   "execution_count": 26,
   "id": "e2f18acf",
   "metadata": {},
   "outputs": [],
   "source": [
    "class alpha:\n",
    "    def __init__(self):\n",
    "        self.a= \"alpha\"\n",
    "        \n",
    "    def display(self):\n",
    "        print(\"this is parents\")\n",
    "\n",
    "class beta:\n",
    "    def __init__(self):\n",
    "        self.b= \"beta\"\n",
    "        \n",
    "    def display(self):\n",
    "        print(\"this is child\")\n",
    "    \n",
    "        alpha.__init__(self)\n",
    "        "
   ]
  },
  {
   "cell_type": "code",
   "execution_count": 27,
   "id": "1e672591",
   "metadata": {},
   "outputs": [],
   "source": [
    "b=beta()"
   ]
  },
  {
   "cell_type": "code",
   "execution_count": 28,
   "id": "af2e96d5",
   "metadata": {},
   "outputs": [
    {
     "name": "stdout",
     "output_type": "stream",
     "text": [
      "this is child\n"
     ]
    }
   ],
   "source": [
    "b.display()"
   ]
  },
  {
   "cell_type": "code",
   "execution_count": null,
   "id": "1cb1e61d",
   "metadata": {},
   "outputs": [],
   "source": []
  }
 ],
 "metadata": {
  "kernelspec": {
   "display_name": "Python 3 (ipykernel)",
   "language": "python",
   "name": "python3"
  },
  "language_info": {
   "codemirror_mode": {
    "name": "ipython",
    "version": 3
   },
   "file_extension": ".py",
   "mimetype": "text/x-python",
   "name": "python",
   "nbconvert_exporter": "python",
   "pygments_lexer": "ipython3",
   "version": "3.10.5"
  }
 },
 "nbformat": 4,
 "nbformat_minor": 5
}
