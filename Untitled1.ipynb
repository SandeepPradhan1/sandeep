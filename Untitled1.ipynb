{
 "cells": [
  {
   "cell_type": "code",
   "execution_count": 7,
   "id": "3eafe86b",
   "metadata": {},
   "outputs": [
    {
     "data": {
      "text/plain": [
       "11"
      ]
     },
     "execution_count": 7,
     "metadata": {},
     "output_type": "execute_result"
    }
   ],
   "source": [
    "txt = \"Hello world\"\n",
    "len(txt)"
   ]
  },
  {
   "cell_type": "code",
   "execution_count": 36,
   "id": "b308913e",
   "metadata": {},
   "outputs": [],
   "source": [
    "start = 0\n",
    "end = len(txt)\n",
    "step = 1"
   ]
  },
  {
   "cell_type": "code",
   "execution_count": 42,
   "id": "ca3a48ae",
   "metadata": {},
   "outputs": [
    {
     "name": "stdout",
     "output_type": "stream",
     "text": [
      "Index is 0 and letter is H\n",
      "Index is 1 and letter is e\n",
      "Index is 2 and letter is l\n",
      "Index is 3 and letter is l\n",
      "Index is 4 and letter is o\n",
      "Index is 5 and letter is  \n",
      "Index is 6 and letter is w\n",
      "Index is 7 and letter is o\n",
      "Index is 8 and letter is r\n",
      "Index is 9 and letter is l\n",
      "Index is 10 and letter is d\n"
     ]
    }
   ],
   "source": [
    "for index in range(start, end, step):\n",
    "    letter = txt[index]\n",
    "    print(\"Index is {} and letter is {}\".format(index, letter))"
   ]
  },
  {
   "cell_type": "markdown",
   "id": "14eadd70",
   "metadata": {},
   "source": [
    "# loop statement\n"
   ]
  },
  {
   "cell_type": "code",
   "execution_count": null,
   "id": "77dceb01",
   "metadata": {},
   "outputs": [],
   "source": []
  },
  {
   "cell_type": "code",
   "execution_count": null,
   "id": "b3e23327",
   "metadata": {},
   "outputs": [],
   "source": []
  },
  {
   "cell_type": "code",
   "execution_count": null,
   "id": "205521a8",
   "metadata": {},
   "outputs": [],
   "source": []
  },
  {
   "cell_type": "code",
   "execution_count": null,
   "id": "fa62d3b2",
   "metadata": {},
   "outputs": [],
   "source": []
  }
 ],
 "metadata": {
  "kernelspec": {
   "display_name": "Python 3 (ipykernel)",
   "language": "python",
   "name": "python3"
  },
  "language_info": {
   "codemirror_mode": {
    "name": "ipython",
    "version": 3
   },
   "file_extension": ".py",
   "mimetype": "text/x-python",
   "name": "python",
   "nbconvert_exporter": "python",
   "pygments_lexer": "ipython3",
   "version": "3.10.5"
  }
 },
 "nbformat": 4,
 "nbformat_minor": 5
}
