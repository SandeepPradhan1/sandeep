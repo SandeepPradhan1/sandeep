{
 "cells": [
  {
   "cell_type": "code",
   "execution_count": 12,
   "id": "9ccf2211",
   "metadata": {},
   "outputs": [
    {
     "name": "stdout",
     "output_type": "stream",
     "text": [
      "index = 10, letter = d\n",
      "index = 9, letter = l\n",
      "index = 8, letter = r\n",
      "index = 7, letter = o\n",
      "index = 6, letter = w\n",
      "index = 5, letter =  \n",
      "index = 4, letter = o\n",
      "index = 3, letter = l\n",
      "index = 2, letter = l\n",
      "index = 1, letter = e\n",
      "index = 0, letter = H\n"
     ]
    }
   ],
   "source": [
    "s = \"Hello world\"\n",
    "start = len(s)-1\n",
    "end = -1\n",
    "step = -1\n",
    "for i in range(start, end, step):\n",
    "     print(\"index = {}, letter = {}\".format(i, s[i]))"
   ]
  },
  {
   "cell_type": "code",
   "execution_count": null,
   "id": "890e61d3",
   "metadata": {},
   "outputs": [],
   "source": []
  },
  {
   "cell_type": "code",
   "execution_count": null,
   "id": "45ea1a72",
   "metadata": {},
   "outputs": [],
   "source": []
  }
 ],
 "metadata": {
  "kernelspec": {
   "display_name": "Python 3 (ipykernel)",
   "language": "python",
   "name": "python3"
  },
  "language_info": {
   "codemirror_mode": {
    "name": "ipython",
    "version": 3
   },
   "file_extension": ".py",
   "mimetype": "text/x-python",
   "name": "python",
   "nbconvert_exporter": "python",
   "pygments_lexer": "ipython3",
   "version": "3.10.5"
  }
 },
 "nbformat": 4,
 "nbformat_minor": 5
}
