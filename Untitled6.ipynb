{
 "cells": [
  {
   "cell_type": "code",
   "execution_count": 21,
   "id": "d2eeba66",
   "metadata": {},
   "outputs": [
    {
     "data": {
      "text/plain": [
       "5"
      ]
     },
     "execution_count": 21,
     "metadata": {},
     "output_type": "execute_result"
    }
   ],
   "source": [
    "nums = [9,2,45,0,11]\n",
    "len(nums)\n"
   ]
  },
  {
   "cell_type": "code",
   "execution_count": 22,
   "id": "98954aad",
   "metadata": {},
   "outputs": [],
   "source": [
    "start = 0\n",
    "end = len(nums)\n",
    "step = 1"
   ]
  },
  {
   "cell_type": "code",
   "execution_count": 25,
   "id": "17e23566",
   "metadata": {},
   "outputs": [
    {
     "name": "stdout",
     "output_type": "stream",
     "text": [
      "Position is 0 and value is 9\n",
      "Position is 1 and value is 2\n",
      "Position is 2 and value is 45\n",
      "Position is 3 and value is 0\n",
      "Position is 4 and value is 11\n"
     ]
    }
   ],
   "source": [
    "for index in range(start, end, step):\n",
    "    value = nums[index]\n",
    "    print(\"Position is {} and value is {}\".format(index, value))"
   ]
  },
  {
   "cell_type": "code",
   "execution_count": null,
   "id": "8642d43d",
   "metadata": {},
   "outputs": [],
   "source": []
  },
  {
   "cell_type": "code",
   "execution_count": null,
   "id": "5c3e1732",
   "metadata": {},
   "outputs": [],
   "source": []
  }
 ],
 "metadata": {
  "kernelspec": {
   "display_name": "Python 3 (ipykernel)",
   "language": "python",
   "name": "python3"
  },
  "language_info": {
   "codemirror_mode": {
    "name": "ipython",
    "version": 3
   },
   "file_extension": ".py",
   "mimetype": "text/x-python",
   "name": "python",
   "nbconvert_exporter": "python",
   "pygments_lexer": "ipython3",
   "version": "3.10.5"
  }
 },
 "nbformat": 4,
 "nbformat_minor": 5
}
