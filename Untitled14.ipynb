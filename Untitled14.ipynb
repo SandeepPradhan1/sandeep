{
 "cells": [
  {
   "cell_type": "code",
   "execution_count": 13,
   "id": "28f17249",
   "metadata": {},
   "outputs": [],
   "source": [
    "class Computer:\n",
    "    def __init_(self, cpu, ram):\n",
    "        self.cpu = cpu\n",
    "        self.ram = ram"
   ]
  },
  {
   "cell_type": "code",
   "execution_count": 14,
   "id": "ee4b8ead",
   "metadata": {},
   "outputs": [],
   "source": [
    "class Mobile(Computer):\n",
    "    def _init(self, cpu, ram, size):\n",
    "        super().__init__(cpu, ram)\n",
    "        self.size = size\n",
    "        "
   ]
  },
  {
   "cell_type": "code",
   "execution_count": 27,
   "id": "db5000f2",
   "metadata": {},
   "outputs": [
    {
     "ename": "NameError",
     "evalue": "name 'mobile' is not defined",
     "output_type": "error",
     "traceback": [
      "\u001b[1;31m---------------------------------------------------------------------------\u001b[0m",
      "\u001b[1;31mNameError\u001b[0m                                 Traceback (most recent call last)",
      "Input \u001b[1;32mIn [27]\u001b[0m, in \u001b[0;36m<cell line: 1>\u001b[1;34m()\u001b[0m\n\u001b[1;32m----> 1\u001b[0m Mobile \u001b[38;5;241m=\u001b[39m \u001b[43mmobile\u001b[49m(\u001b[38;5;241m2\u001b[39m, \u001b[38;5;241m3\u001b[39m, \u001b[38;5;241m8\u001b[39m)\n",
      "\u001b[1;31mNameError\u001b[0m: name 'mobile' is not defined"
     ]
    }
   ],
   "source": [
    "Mobile = mobile(2, 3, 8)\n"
   ]
  },
  {
   "cell_type": "code",
   "execution_count": 24,
   "id": "bd3b74d9",
   "metadata": {},
   "outputs": [
    {
     "ename": "NameError",
     "evalue": "name 'mobile' is not defined",
     "output_type": "error",
     "traceback": [
      "\u001b[1;31m---------------------------------------------------------------------------\u001b[0m",
      "\u001b[1;31mNameError\u001b[0m                                 Traceback (most recent call last)",
      "Input \u001b[1;32mIn [24]\u001b[0m, in \u001b[0;36m<cell line: 1>\u001b[1;34m()\u001b[0m\n\u001b[1;32m----> 1\u001b[0m \u001b[43mmobile\u001b[49m\u001b[38;5;241m.\u001b[39mcpu\n",
      "\u001b[1;31mNameError\u001b[0m: name 'mobile' is not defined"
     ]
    }
   ],
   "source": [
    "mobile.cpu"
   ]
  },
  {
   "cell_type": "code",
   "execution_count": null,
   "id": "a60b0dcf",
   "metadata": {},
   "outputs": [],
   "source": []
  },
  {
   "cell_type": "code",
   "execution_count": null,
   "id": "d20043b2",
   "metadata": {},
   "outputs": [],
   "source": []
  }
 ],
 "metadata": {
  "kernelspec": {
   "display_name": "Python 3 (ipykernel)",
   "language": "python",
   "name": "python3"
  },
  "language_info": {
   "codemirror_mode": {
    "name": "ipython",
    "version": 3
   },
   "file_extension": ".py",
   "mimetype": "text/x-python",
   "name": "python",
   "nbconvert_exporter": "python",
   "pygments_lexer": "ipython3",
   "version": "3.10.5"
  }
 },
 "nbformat": 4,
 "nbformat_minor": 5
}
