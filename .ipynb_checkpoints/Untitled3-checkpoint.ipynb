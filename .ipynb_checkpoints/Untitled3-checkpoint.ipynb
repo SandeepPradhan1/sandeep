{
 "cells": [
  {
   "cell_type": "code",
   "execution_count": 8,
   "id": "d0687a19",
   "metadata": {},
   "outputs": [
    {
     "ename": "IndentationError",
     "evalue": "expected an indented block after 'for' statement on line 5 (1084280499.py, line 6)",
     "output_type": "error",
     "traceback": [
      "\u001b[1;36m  Input \u001b[1;32mIn [8]\u001b[1;36m\u001b[0m\n\u001b[1;33m    print(\"index = {}, letter = {}\".format(i, [s]))\u001b[0m\n\u001b[1;37m    ^\u001b[0m\n\u001b[1;31mIndentationError\u001b[0m\u001b[1;31m:\u001b[0m expected an indented block after 'for' statement on line 5\n"
     ]
    }
   ],
   "source": [
    "s=\"Hello world\"\n",
    "start=len(s)-1\n",
    "end=-1\n",
    "step=-1\n",
    "for i in range(start, end, step):\n",
    "print(\"index = {}, letter = {}\".format(i, s[i]))"
   ]
  },
  {
   "cell_type": "code",
   "execution_count": null,
   "id": "586c4eb5",
   "metadata": {},
   "outputs": [],
   "source": []
  },
  {
   "cell_type": "code",
   "execution_count": null,
   "id": "d02d6377",
   "metadata": {},
   "outputs": [],
   "source": []
  }
 ],
 "metadata": {
  "kernelspec": {
   "display_name": "Python 3 (ipykernel)",
   "language": "python",
   "name": "python3"
  },
  "language_info": {
   "codemirror_mode": {
    "name": "ipython",
    "version": 3
   },
   "file_extension": ".py",
   "mimetype": "text/x-python",
   "name": "python",
   "nbconvert_exporter": "python",
   "pygments_lexer": "ipython3",
   "version": "3.10.5"
  }
 },
 "nbformat": 4,
 "nbformat_minor": 5
}
