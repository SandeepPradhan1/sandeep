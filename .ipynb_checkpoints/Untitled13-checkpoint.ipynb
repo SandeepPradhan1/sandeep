{
 "cells": [
  {
   "cell_type": "markdown",
   "id": "35440c2e",
   "metadata": {},
   "source": [
    "# function\n",
    "# oop in python\n",
    "# "
   ]
  },
  {
   "cell_type": "code",
   "execution_count": 19,
   "id": "45f9a0af",
   "metadata": {},
   "outputs": [],
   "source": [
    "def test(*args,**kwargs):\n",
    "    print(args)\n",
    "    print(kwargs)"
   ]
  },
  {
   "cell_type": "code",
   "execution_count": 20,
   "id": "3f53c16d",
   "metadata": {},
   "outputs": [
    {
     "name": "stdout",
     "output_type": "stream",
     "text": [
      "(2, 3, 4, 5)\n",
      "{'first_name': 'sandip', 'age': 22}\n"
     ]
    }
   ],
   "source": [
    "test(2,3,4,5, first_name= \"sandip\", age= 22)\n"
   ]
  },
  {
   "cell_type": "code",
   "execution_count": 29,
   "id": "e9df0062",
   "metadata": {},
   "outputs": [
    {
     "ename": "SyntaxError",
     "evalue": "invalid syntax (432626541.py, line 2)",
     "output_type": "error",
     "traceback": [
      "\u001b[1;36m  Input \u001b[1;32mIn [29]\u001b[1;36m\u001b[0m\n\u001b[1;33m    def_init_(self, radius):\u001b[0m\n\u001b[1;37m                           ^\u001b[0m\n\u001b[1;31mSyntaxError\u001b[0m\u001b[1;31m:\u001b[0m invalid syntax\n"
     ]
    }
   ],
   "source": [
    "class circle:\n",
    "    def_init_(self, radius):\n",
    "        self.radius= radius\n",
    "        \n",
    "    def display_radious(self):\n",
    "        print(\"the radius is{}\".format(self.radius))"
   ]
  },
  {
   "cell_type": "code",
   "execution_count": 37,
   "id": "d7a788b6",
   "metadata": {},
   "outputs": [],
   "source": [
    "class base1:\n",
    "    def __init__(self, relationship):\n",
    "        self.father = relationship\n",
    "        \n",
    "class base2:\n",
    "        def __init__(self, relationship):\n",
    "            self.mother = relationship\n",
    "            \n",
    "        \n",
    "        "
   ]
  },
  {
   "cell_type": "code",
   "execution_count": 41,
   "id": "f7d0543d",
   "metadata": {},
   "outputs": [],
   "source": [
    "class child(base1, base2):\n",
    "    def __init__(self, father, mother, name):\n",
    "        base1.__init__(self,father)\n",
    "        base2.__init__(self,mother)\n",
    "        self.name = name\n",
    "       \n",
    "    "
   ]
  },
  {
   "cell_type": "code",
   "execution_count": 44,
   "id": "d4ff62df",
   "metadata": {},
   "outputs": [],
   "source": [
    "c1 = child(\"ram\", \"hari\", \"shyam\")\n"
   ]
  },
  {
   "cell_type": "markdown",
   "id": "b1c56ff5",
   "metadata": {},
   "source": []
  },
  {
   "cell_type": "code",
   "execution_count": 54,
   "id": "40eecc71",
   "metadata": {},
   "outputs": [
    {
     "data": {
      "text/plain": [
       "'ram'"
      ]
     },
     "execution_count": 54,
     "metadata": {},
     "output_type": "execute_result"
    }
   ],
   "source": [
    "c1.father\n"
   ]
  },
  {
   "cell_type": "code",
   "execution_count": null,
   "id": "0ae5dcf1",
   "metadata": {},
   "outputs": [],
   "source": []
  },
  {
   "cell_type": "code",
   "execution_count": null,
   "id": "e4250f59",
   "metadata": {},
   "outputs": [],
   "source": []
  },
  {
   "cell_type": "code",
   "execution_count": null,
   "id": "d9a385fb",
   "metadata": {},
   "outputs": [],
   "source": []
  },
  {
   "cell_type": "code",
   "execution_count": null,
   "id": "e08b4b35",
   "metadata": {},
   "outputs": [],
   "source": []
  }
 ],
 "metadata": {
  "kernelspec": {
   "display_name": "Python 3 (ipykernel)",
   "language": "python",
   "name": "python3"
  },
  "language_info": {
   "codemirror_mode": {
    "name": "ipython",
    "version": 3
   },
   "file_extension": ".py",
   "mimetype": "text/x-python",
   "name": "python",
   "nbconvert_exporter": "python",
   "pygments_lexer": "ipython3",
   "version": "3.10.5"
  }
 },
 "nbformat": 4,
 "nbformat_minor": 5
}
