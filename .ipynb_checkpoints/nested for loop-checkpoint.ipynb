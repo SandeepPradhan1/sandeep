{
 "cells": [
  {
   "cell_type": "code",
   "execution_count": 7,
   "id": "5bae7803",
   "metadata": {},
   "outputs": [
    {
     "name": "stdout",
     "output_type": "stream",
     "text": [
      ".........\n",
      "i=0\n",
      ".........\n",
      "j=0\n",
      "j=1\n",
      "j=2\n",
      "j=3\n",
      "j=4\n",
      ".........\n",
      "i=1\n",
      ".........\n",
      "j=0\n",
      "j=1\n",
      "j=2\n",
      "j=3\n",
      "j=4\n",
      ".........\n",
      "i=2\n",
      ".........\n",
      "j=0\n",
      "j=1\n",
      "j=2\n",
      "j=3\n",
      "j=4\n"
     ]
    }
   ],
   "source": [
    "for i in range(3):\n",
    "    print(\".........\")\n",
    "    print(\"i={}\".format(i))\n",
    "    print(\".........\")\n",
    "    for j in range(5):\n",
    "        print(\"j={}\".format(j))"
   ]
  },
  {
   "cell_type": "code",
   "execution_count": null,
   "id": "b9053db7",
   "metadata": {},
   "outputs": [],
   "source": []
  },
  {
   "cell_type": "code",
   "execution_count": 8,
   "id": "44ef01c5",
   "metadata": {},
   "outputs": [],
   "source": [
    "list1 = [[1,2,3], {4,5}, [44,45,6]]"
   ]
  },
  {
   "cell_type": "code",
   "execution_count": 17,
   "id": "e8d92ba4",
   "metadata": {},
   "outputs": [],
   "source": [
    "total_vlaue_list = []\n",
    "for i in list1:\n",
    "    total=0\n",
    "    for j in i:\n",
    "        total = total + j\n",
    "        total_vlaue_list.append(total)\n",
    "        "
   ]
  },
  {
   "cell_type": "code",
   "execution_count": null,
   "id": "daed5051",
   "metadata": {},
   "outputs": [],
   "source": []
  },
  {
   "cell_type": "code",
   "execution_count": null,
   "id": "d0352914",
   "metadata": {},
   "outputs": [],
   "source": []
  }
 ],
 "metadata": {
  "kernelspec": {
   "display_name": "Python 3 (ipykernel)",
   "language": "python",
   "name": "python3"
  },
  "language_info": {
   "codemirror_mode": {
    "name": "ipython",
    "version": 3
   },
   "file_extension": ".py",
   "mimetype": "text/x-python",
   "name": "python",
   "nbconvert_exporter": "python",
   "pygments_lexer": "ipython3",
   "version": "3.10.5"
  }
 },
 "nbformat": 4,
 "nbformat_minor": 5
}
