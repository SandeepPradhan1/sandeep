{
 "cells": [
  {
   "cell_type": "markdown",
   "id": "701e70ad",
   "metadata": {},
   "source": [
    "# structure query language "
   ]
  },
  {
   "cell_type": "code",
   "execution_count": 2,
   "id": "2b72cdf6",
   "metadata": {},
   "outputs": [],
   "source": [
    "import sqlite3"
   ]
  },
  {
   "cell_type": "code",
   "execution_count": 5,
   "id": "b8b203e9",
   "metadata": {},
   "outputs": [],
   "source": [
    "con = sqlite3.connect('broadwayclass.bd')"
   ]
  },
  {
   "cell_type": "code",
   "execution_count": 9,
   "id": "2875bb19",
   "metadata": {},
   "outputs": [],
   "source": [
    "cur = con.cursor()\n"
   ]
  },
  {
   "cell_type": "markdown",
   "id": "9c5d9570",
   "metadata": {},
   "source": [
    "# create statement in SQL\n",
    "\n",
    "C : Create\n",
    "R : Read\n",
    "U : Update\n",
    "I : Insert\n",
    "D : Delete\n",
    "\n",
    "create table table_name(colum_name)\n"
   ]
  },
  {
   "cell_type": "code",
   "execution_count": 32,
   "id": "a19d560e",
   "metadata": {},
   "outputs": [],
   "source": [
    "create_tab_query = \"\"\"\n",
    "create table studentt(roll_no not null, name)\"\"\""
   ]
  },
  {
   "cell_type": "code",
   "execution_count": 33,
   "id": "136712c5",
   "metadata": {},
   "outputs": [
    {
     "data": {
      "text/plain": [
       "<sqlite3.Cursor at 0x25891b2aac0>"
      ]
     },
     "execution_count": 33,
     "metadata": {},
     "output_type": "execute_result"
    }
   ],
   "source": [
    "cur.execute(create_tab_query)"
   ]
  },
  {
   "cell_type": "markdown",
   "id": "a3e0e0cd",
   "metadata": {},
   "source": [
    "# insert statement"
   ]
  },
  {
   "cell_type": "code",
   "execution_count": 47,
   "id": "64a35e3e",
   "metadata": {},
   "outputs": [],
   "source": [
    "ins_query = \"\"\"\n",
    "insert into studentt(roll_no, name)\n",
    "values\n",
    "(1, 'Anish'),\n",
    "(2, 'Rojina'),\n",
    "(3, 'shyam')\n",
    "\"\"\""
   ]
  },
  {
   "cell_type": "code",
   "execution_count": 48,
   "id": "c5fceb9b",
   "metadata": {},
   "outputs": [
    {
     "data": {
      "text/plain": [
       "<sqlite3.Cursor at 0x25891b2aac0>"
      ]
     },
     "execution_count": 48,
     "metadata": {},
     "output_type": "execute_result"
    }
   ],
   "source": [
    "cur.execute(ins_query)"
   ]
  },
  {
   "cell_type": "markdown",
   "id": "fe8feca1",
   "metadata": {},
   "source": [
    "# select statement in SQL/Read"
   ]
  },
  {
   "cell_type": "code",
   "execution_count": 55,
   "id": "386a9bdb",
   "metadata": {},
   "outputs": [
    {
     "data": {
      "text/plain": [
       "[(1, 'Anish'), (2, 'Rojina'), (3, 'shyam')]"
      ]
     },
     "execution_count": 55,
     "metadata": {},
     "output_type": "execute_result"
    }
   ],
   "source": [
    "cur.execute(\"select * from studentt\").fetchall()"
   ]
  },
  {
   "cell_type": "code",
   "execution_count": 56,
   "id": "b101816b",
   "metadata": {},
   "outputs": [
    {
     "data": {
      "text/plain": [
       "[(1,), (2,), (3,)]"
      ]
     },
     "execution_count": 56,
     "metadata": {},
     "output_type": "execute_result"
    }
   ],
   "source": [
    "cur.execute(\"select roll_no from studentt\").fetchall()"
   ]
  },
  {
   "cell_type": "code",
   "execution_count": 57,
   "id": "98cb8422",
   "metadata": {},
   "outputs": [
    {
     "data": {
      "text/plain": [
       "[(1, 'Anish')]"
      ]
     },
     "execution_count": 57,
     "metadata": {},
     "output_type": "execute_result"
    }
   ],
   "source": [
    "cur.execute(\"select * from studentt where roll_no ==1\").fetchall()"
   ]
  },
  {
   "cell_type": "markdown",
   "id": "bf8ab260",
   "metadata": {},
   "source": [
    "# Update statement in SQL"
   ]
  },
  {
   "cell_type": "code",
   "execution_count": 102,
   "id": "62e0d3bb",
   "metadata": {},
   "outputs": [],
   "source": [
    "update_query = \"\"\"\"\n",
    "Update into studentt\n",
    "set name = 'shyam sharma'\n",
    "where\n",
    "roll_no = 3\n",
    "\"\"\""
   ]
  },
  {
   "cell_type": "code",
   "execution_count": null,
   "id": "681c2d29",
   "metadata": {},
   "outputs": [],
   "source": []
  },
  {
   "cell_type": "code",
   "execution_count": null,
   "id": "3eed3d15",
   "metadata": {},
   "outputs": [],
   "source": []
  },
  {
   "cell_type": "code",
   "execution_count": 101,
   "id": "ef86a53d",
   "metadata": {},
   "outputs": [
    {
     "data": {
      "text/plain": [
       "[(1, 'Anish'),\n",
       " (2, 'Rojina'),\n",
       " (3, 'shyam'),\n",
       " (1, 'Anish'),\n",
       " (2, 'Rojina'),\n",
       " (3, 'shyam')]"
      ]
     },
     "execution_count": 101,
     "metadata": {},
     "output_type": "execute_result"
    }
   ],
   "source": [
    "cur.execute(\"select * from studentt\").fetchall()"
   ]
  },
  {
   "cell_type": "code",
   "execution_count": null,
   "id": "ba3bdbe8",
   "metadata": {},
   "outputs": [],
   "source": []
  }
 ],
 "metadata": {
  "kernelspec": {
   "display_name": "Python 3 (ipykernel)",
   "language": "python",
   "name": "python3"
  },
  "language_info": {
   "codemirror_mode": {
    "name": "ipython",
    "version": 3
   },
   "file_extension": ".py",
   "mimetype": "text/x-python",
   "name": "python",
   "nbconvert_exporter": "python",
   "pygments_lexer": "ipython3",
   "version": "3.10.5"
  }
 },
 "nbformat": 4,
 "nbformat_minor": 5
}
