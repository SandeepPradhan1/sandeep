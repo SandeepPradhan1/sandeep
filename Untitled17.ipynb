{
 "cells": [
  {
   "cell_type": "markdown",
   "id": "b61b5ada",
   "metadata": {},
   "source": [
    "# File Handeling"
   ]
  },
  {
   "cell_type": "code",
   "execution_count": 1,
   "id": "0db87a86",
   "metadata": {},
   "outputs": [],
   "source": [
    "file=open(\"file.txt\")"
   ]
  },
  {
   "cell_type": "code",
   "execution_count": 2,
   "id": "c955d950",
   "metadata": {},
   "outputs": [
    {
     "data": {
      "text/plain": [
       "<_io.TextIOWrapper name='file.txt' mode='r' encoding='cp1252'>"
      ]
     },
     "execution_count": 2,
     "metadata": {},
     "output_type": "execute_result"
    }
   ],
   "source": [
    "file\n"
   ]
  },
  {
   "cell_type": "code",
   "execution_count": 3,
   "id": "bb59bf2f",
   "metadata": {},
   "outputs": [
    {
     "data": {
      "text/plain": [
       "'The virtual SIM also allows subscribers to switch from one mobile network to another without having to change the physical SIM card\\n\\nhttps://kathmandupost.com/'"
      ]
     },
     "execution_count": 3,
     "metadata": {},
     "output_type": "execute_result"
    }
   ],
   "source": [
    "file.read()"
   ]
  },
  {
   "cell_type": "code",
   "execution_count": 4,
   "id": "9b17254c",
   "metadata": {},
   "outputs": [],
   "source": [
    "file=open(\"file.txt\")\n",
    "lines= file.readlines()"
   ]
  },
  {
   "cell_type": "code",
   "execution_count": 7,
   "id": "48ddba6b",
   "metadata": {},
   "outputs": [
    {
     "data": {
      "text/plain": [
       "['The virtual SIM also allows subscribers to switch from one mobile network to another without having to change the physical SIM card\\n',\n",
       " '\\n',\n",
       " 'https://kathmandupost.com/']"
      ]
     },
     "execution_count": 7,
     "metadata": {},
     "output_type": "execute_result"
    }
   ],
   "source": [
    "lines\n"
   ]
  },
  {
   "cell_type": "code",
   "execution_count": 9,
   "id": "b98d75da",
   "metadata": {},
   "outputs": [
    {
     "data": {
      "text/plain": [
       "list"
      ]
     },
     "execution_count": 9,
     "metadata": {},
     "output_type": "execute_result"
    }
   ],
   "source": [
    "type(lines)"
   ]
  },
  {
   "cell_type": "code",
   "execution_count": null,
   "id": "891fad20",
   "metadata": {},
   "outputs": [],
   "source": []
  }
 ],
 "metadata": {
  "kernelspec": {
   "display_name": "Python 3 (ipykernel)",
   "language": "python",
   "name": "python3"
  },
  "language_info": {
   "codemirror_mode": {
    "name": "ipython",
    "version": 3
   },
   "file_extension": ".py",
   "mimetype": "text/x-python",
   "name": "python",
   "nbconvert_exporter": "python",
   "pygments_lexer": "ipython3",
   "version": "3.10.5"
  }
 },
 "nbformat": 4,
 "nbformat_minor": 5
}
