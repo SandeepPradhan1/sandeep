{
 "cells": [
  {
   "cell_type": "code",
   "execution_count": 1,
   "id": "59d3163e",
   "metadata": {},
   "outputs": [
    {
     "data": {
      "text/plain": [
       "['apple', 'papaya', 'mango', 'orange', 'grapes']"
      ]
     },
     "execution_count": 1,
     "metadata": {},
     "output_type": "execute_result"
    }
   ],
   "source": [
    "fruits = ['apple', 'mango', 'orange', 'grapes']\n",
    "fruits.insert(1, 'papaya')\n",
    "fruits"
   ]
  },
  {
   "cell_type": "markdown",
   "id": "b87357a7",
   "metadata": {},
   "source": [
    "# append in list(insert word in last number)"
   ]
  },
  {
   "cell_type": "code",
   "execution_count": 4,
   "id": "862754a6",
   "metadata": {},
   "outputs": [
    {
     "data": {
      "text/plain": [
       "[1, 2, 3, 4, 5, 6, 7, 8, 9, 'ten']"
      ]
     },
     "execution_count": 4,
     "metadata": {},
     "output_type": "execute_result"
    }
   ],
   "source": [
    "number = [1,2,3,4,5,6,7,8,9]\n",
    "number.append('ten')\n",
    "number"
   ]
  },
  {
   "cell_type": "markdown",
   "id": "069a8e12",
   "metadata": {},
   "source": [
    "# Next"
   ]
  },
  {
   "cell_type": "code",
   "execution_count": 12,
   "id": "651e6b38",
   "metadata": {},
   "outputs": [
    {
     "name": "stdout",
     "output_type": "stream",
     "text": [
      "[1]\n",
      "[1, 1, 4]\n",
      "[1, 1, 4, 4, 9]\n",
      "[1, 1, 4, 4, 9, 9, 16]\n",
      "[1, 1, 4, 4, 9, 9, 16, 16, 25]\n",
      "[1, 1, 4, 4, 9, 9, 16, 16, 25, 25, 36]\n"
     ]
    }
   ],
   "source": [
    "numbers = [1,2,3,4,5,6]\n",
    "squares = []\n",
    "\n",
    "for items in numbers:\n",
    "    num_sq = items**2\n",
    "    squares.append(num_sq)\n",
    "    print(squares)\n",
    "    squares.append(num_sq)"
   ]
  },
  {
   "cell_type": "markdown",
   "id": "9414847a",
   "metadata": {},
   "source": [
    "# Extend (Add value in last)"
   ]
  },
  {
   "cell_type": "code",
   "execution_count": 21,
   "id": "952c313b",
   "metadata": {},
   "outputs": [
    {
     "data": {
      "text/plain": [
       "[1, 2, 3, 4, 5, 11, 22, 33, 44, 55, 66, 77, 11, 22, 33, 44, 55, 66, 77]"
      ]
     },
     "execution_count": 21,
     "metadata": {},
     "output_type": "execute_result"
    }
   ],
   "source": [
    "list1 = [1,2,3,4,5]\n",
    "list2 = [11,22,33,44,55,66,77]\n",
    "list1.extend(list2)\n",
    "list1\n",
    "\n",
    "list3 = list1+list2\n",
    "list3"
   ]
  },
  {
   "cell_type": "markdown",
   "id": "86526269",
   "metadata": {},
   "source": [
    "# remove srting values"
   ]
  },
  {
   "cell_type": "code",
   "execution_count": 43,
   "id": "63f878e9",
   "metadata": {},
   "outputs": [
    {
     "data": {
      "text/plain": [
       "['mangos', 'banana', 'orange']"
      ]
     },
     "execution_count": 43,
     "metadata": {},
     "output_type": "execute_result"
    }
   ],
   "source": [
    "fruits = ['apple', 'mangos', 'banana', 'orange']\n",
    "fruits.remove('apple')\n",
    "fruits\n"
   ]
  },
  {
   "cell_type": "markdown",
   "id": "4be73fe0",
   "metadata": {},
   "source": [
    "# how to use pop (remove last data from list)\n"
   ]
  },
  {
   "cell_type": "code",
   "execution_count": 37,
   "id": "46b5cb76",
   "metadata": {},
   "outputs": [
    {
     "data": {
      "text/plain": [
       "'orange'"
      ]
     },
     "execution_count": 37,
     "metadata": {},
     "output_type": "execute_result"
    }
   ],
   "source": [
    "fruit = ['apple', 'mangos', 'banana', 'orange']\n",
    "fruit.pop()"
   ]
  },
  {
   "cell_type": "markdown",
   "id": "c8c78147",
   "metadata": {},
   "source": [
    "# sort function\n",
    "\n"
   ]
  },
  {
   "cell_type": "code",
   "execution_count": 47,
   "id": "3269198a",
   "metadata": {},
   "outputs": [
    {
     "data": {
      "text/plain": [
       "[3, 4, 5, 6, 8]"
      ]
     },
     "execution_count": 47,
     "metadata": {},
     "output_type": "execute_result"
    }
   ],
   "source": [
    "nums =[6,5,8,4,3]\n",
    "nums.sort(reverse=False)\n",
    "nums"
   ]
  },
  {
   "cell_type": "markdown",
   "id": "3f54761a",
   "metadata": {},
   "source": [
    "# next"
   ]
  },
  {
   "cell_type": "code",
   "execution_count": 59,
   "id": "a55a0079",
   "metadata": {},
   "outputs": [
    {
     "data": {
      "text/plain": [
       "[1, 4, 9, 16, 25, 36]"
      ]
     },
     "execution_count": 59,
     "metadata": {},
     "output_type": "execute_result"
    }
   ],
   "source": [
    "numbers = [1,2,3,4,5,6]\n",
    "squares =list()\n",
    "\n",
    "for items in numbers:\n",
    "    sq= items**2\n",
    "    squares.append(sq)\n",
    "squares"
   ]
  },
  {
   "cell_type": "markdown",
   "id": "568de689",
   "metadata": {},
   "source": [
    "# lovercase"
   ]
  },
  {
   "cell_type": "code",
   "execution_count": 67,
   "id": "424f3f2f",
   "metadata": {},
   "outputs": [
    {
     "data": {
      "text/plain": [
       "['apple', 'mangos', 'banana', 'orange']"
      ]
     },
     "execution_count": 67,
     "metadata": {},
     "output_type": "execute_result"
    }
   ],
   "source": [
    "fruits = ['apple', 'mangos', 'banana', 'orange']\n",
    "s_fruits=[items.lower() for items in fruits]\n",
    "s_fruits\n"
   ]
  },
  {
   "cell_type": "code",
   "execution_count": null,
   "id": "9867a425",
   "metadata": {},
   "outputs": [],
   "source": [
    "\n"
   ]
  },
  {
   "cell_type": "code",
   "execution_count": null,
   "id": "e0e06fe9",
   "metadata": {},
   "outputs": [],
   "source": []
  },
  {
   "cell_type": "markdown",
   "id": "bc4d1825",
   "metadata": {},
   "source": [
    "# loop in single line "
   ]
  },
  {
   "cell_type": "code",
   "execution_count": 68,
   "id": "11e2da27",
   "metadata": {},
   "outputs": [
    {
     "data": {
      "text/plain": [
       "[-5, -4, -3, -2, -1, 0, 1, 2, 3, 4, 5]"
      ]
     },
     "execution_count": 68,
     "metadata": {},
     "output_type": "execute_result"
    }
   ],
   "source": [
    "[index for index in range(-5,10,1) if index <=5]"
   ]
  },
  {
   "cell_type": "code",
   "execution_count": null,
   "id": "db610a27",
   "metadata": {},
   "outputs": [],
   "source": []
  },
  {
   "cell_type": "code",
   "execution_count": null,
   "id": "fe865b54",
   "metadata": {},
   "outputs": [],
   "source": []
  },
  {
   "cell_type": "markdown",
   "id": "75ab7e4b",
   "metadata": {},
   "source": [
    "# cw remove items in list using for loop"
   ]
  },
  {
   "cell_type": "code",
   "execution_count": 77,
   "id": "1d4db47d",
   "metadata": {},
   "outputs": [
    {
     "data": {
      "text/plain": [
       "['mangos', 'banana', 'orange']"
      ]
     },
     "execution_count": 77,
     "metadata": {},
     "output_type": "execute_result"
    }
   ],
   "source": [
    "fruits = ['apple', 'mangos','apple', 'banana', 'orange']\n",
    "s_fruits=[items for items in fruits if items != 'apple']\n",
    "s_fruits"
   ]
  },
  {
   "cell_type": "code",
   "execution_count": null,
   "id": "6dea8dac",
   "metadata": {},
   "outputs": [],
   "source": []
  },
  {
   "cell_type": "code",
   "execution_count": null,
   "id": "19ffae30",
   "metadata": {},
   "outputs": [],
   "source": []
  },
  {
   "cell_type": "code",
   "execution_count": null,
   "id": "af2d0a1c",
   "metadata": {},
   "outputs": [],
   "source": []
  }
 ],
 "metadata": {
  "kernelspec": {
   "display_name": "Python 3 (ipykernel)",
   "language": "python",
   "name": "python3"
  },
  "language_info": {
   "codemirror_mode": {
    "name": "ipython",
    "version": 3
   },
   "file_extension": ".py",
   "mimetype": "text/x-python",
   "name": "python",
   "nbconvert_exporter": "python",
   "pygments_lexer": "ipython3",
   "version": "3.10.5"
  }
 },
 "nbformat": 4,
 "nbformat_minor": 5
}
